{
 "cells": [
  {
   "cell_type": "code",
   "execution_count": null,
   "id": "98731059-9338-4d0a-ada1-bb1283b1a1af",
   "metadata": {},
   "outputs": [],
   "source": []
  }
 ],
 "metadata": {
  "kernelspec": {
   "display_name": "",
   "name": ""
  },
  "language_info": {
   "name": ""
  }
 },
 "nbformat": 4,
 "nbformat_minor": 5
}
